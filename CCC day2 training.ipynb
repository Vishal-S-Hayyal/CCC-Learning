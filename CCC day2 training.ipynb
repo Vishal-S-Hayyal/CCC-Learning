{
 "cells": [
  {
   "cell_type": "code",
   "execution_count": 3,
   "id": "9377e533",
   "metadata": {},
   "outputs": [
    {
     "name": "stdout",
     "output_type": "stream",
     "text": [
      "5\n",
      "1   5\n",
      " 2  4\n",
      "  3 "
     ]
    }
   ],
   "source": [
    "i,j = 1, int (input())\n",
    "while i<=j:\n",
    "    for s in range(1,i):\n",
    "        print(\" \" ,end='')\n",
    "    print (i,end='')\n",
    "    for s in range(1, j-1):\n",
    "        print(\" \",end='')\n",
    "    if i!=j:\n",
    "        print(j)\n",
    "    i+=1  \n",
    "    j-=1"
   ]
  },
  {
   "cell_type": "code",
   "execution_count": 3,
   "id": "7362021d",
   "metadata": {},
   "outputs": [],
   "source": [
    "def fact(a):\n",
    "    a_fact=1\n",
    "    for i in range(1,a+1):\n",
    "        a_fact = a_fact*i\n",
    "        return a_fact"
   ]
  },
  {
   "cell_type": "code",
   "execution_count": 6,
   "id": "2e39d0bc",
   "metadata": {},
   "outputs": [
    {
     "name": "stdout",
     "output_type": "stream",
     "text": [
      "*******shubh********\n",
      "shubh***************\n",
      "***************shubh\n"
     ]
    }
   ],
   "source": [
    "st = 'shubh'\n",
    "print(st.center(20,\"*\"))\n",
    "print(st.ljust(20,\"*\"))\n",
    "print(st.rjust(20,\"*\"))"
   ]
  },
  {
   "cell_type": "code",
   "execution_count": 183,
   "id": "bb585150",
   "metadata": {},
   "outputs": [
    {
     "name": "stdout",
     "output_type": "stream",
     "text": [
      "HELLO   geetesh How are you\n",
      "HELLO geetesh How are you\n",
      "HELLO geetesh How are you\n",
      "HELLO   geeteshHow are you\n"
     ]
    }
   ],
   "source": [
    "st = '  geetesh '\n",
    "print(\"HELLO \"+st+\"How are you\")\n",
    "print(\"HELLO \"+st.strip()+\" How are you\")\n",
    "print(\"HELLO \"+st.lstrip()+\"How are you\")\n",
    "print(\"HELLO \"+st.rstrip()+\"How are you\")"
   ]
  },
  {
   "cell_type": "code",
   "execution_count": 16,
   "id": "ae57e882",
   "metadata": {},
   "outputs": [
    {
     "name": "stdout",
     "output_type": "stream",
     "text": [
      "['Honesty', 'is', 'the', 'best', 'policy']\n",
      "['Hone', 'ty i', ' the be', 't policy']\n",
      "['Honesty', 'is', 'the best policy']\n",
      "['Honesty is the', 'best', 'policy']\n"
     ]
    }
   ],
   "source": [
    "st=\"Honesty is the best policy\"\n",
    "print(st.split())\n",
    "print(st.split('s'))\n",
    "print(st.split(\" \",2))\n",
    "print(st.rsplit(\" \",2))"
   ]
  },
  {
   "cell_type": "code",
   "execution_count": 19,
   "id": "fd26ce1c",
   "metadata": {},
   "outputs": [
    {
     "name": "stdout",
     "output_type": "stream",
     "text": [
      "10 20 30\n",
      "[10, 20, 30]\n"
     ]
    }
   ],
   "source": [
    "n = list(map(int,input().split()))\n",
    "print(n)"
   ]
  },
  {
   "cell_type": "code",
   "execution_count": 21,
   "id": "21e3591b",
   "metadata": {},
   "outputs": [
    {
     "name": "stdout",
     "output_type": "stream",
     "text": [
      "10 20\n",
      "200\n"
     ]
    }
   ],
   "source": [
    "x,y = tuple(map(int,input().split()))\n",
    "print(x*y)"
   ]
  },
  {
   "cell_type": "code",
   "execution_count": 27,
   "id": "d288eb74",
   "metadata": {},
   "outputs": [
    {
     "name": "stdout",
     "output_type": "stream",
     "text": [
      "11\n",
      "-1\n",
      "17\n",
      "-1\n",
      "4\n",
      "17\n"
     ]
    }
   ],
   "source": [
    "st = \"Honesty is the best policy\"\n",
    "print(st.find(\"the\"))\n",
    "print(st.find(\"This\"))\n",
    "print(st.rfind(\"s\"))\n",
    "print(st.rfind(\"w\"))\n",
    "print(st.index(\"s\"))\n",
    "print(st.rfind(\"s\"))\n",
    "#find returns -1 for substrinf not present in string\n",
    "#index returns value error"
   ]
  },
  {
   "cell_type": "code",
   "execution_count": 38,
   "id": "b511951c",
   "metadata": {},
   "outputs": [
    {
     "name": "stdout",
     "output_type": "stream",
     "text": [
      "Honesty was the best policy\n",
      "Honesty is the best policy\n",
      "Honesty Is the best polIcy\n",
      "Honesty is the best polIcy\n"
     ]
    }
   ],
   "source": [
    "st = \"Honesty is the best policy\"\n",
    "print(st.replace('is','was'))\n",
    "print(st)\n",
    "print(st.replace('i','I',-1))\n",
    "print(st[:-4]+st[-4:].replace('i','I'))\n",
    "\n",
    "      "
   ]
  },
  {
   "cell_type": "code",
   "execution_count": 39,
   "id": "54f3ae77",
   "metadata": {},
   "outputs": [
    {
     "name": "stdout",
     "output_type": "stream",
     "text": [
      "H4n2st 3s th2 b2st p4l3cy\n"
     ]
    }
   ],
   "source": [
    "st = \"Honest is the best policy\"\n",
    "print(st.translate(st.maketrans('aeiou','12345')))"
   ]
  },
  {
   "cell_type": "code",
   "execution_count": 42,
   "id": "f4fe2431",
   "metadata": {},
   "outputs": [
    {
     "name": "stdout",
     "output_type": "stream",
     "text": [
      "3\n"
     ]
    }
   ],
   "source": [
    "st = \"Honesty is the best policy\"\n",
    "print(st.count('e'))"
   ]
  },
  {
   "cell_type": "code",
   "execution_count": 49,
   "id": "73e07d3e",
   "metadata": {},
   "outputs": [
    {
     "name": "stdout",
     "output_type": "stream",
     "text": [
      "True\n",
      "True\n"
     ]
    }
   ],
   "source": [
    "st = \"Abhishek\"\n",
    "print(st.startswith('Abh'))\n",
    "print(st.endswith('hek'))"
   ]
  },
  {
   "cell_type": "code",
   "execution_count": 56,
   "id": "1ac039cc",
   "metadata": {},
   "outputs": [
    {
     "name": "stdout",
     "output_type": "stream",
     "text": [
      "ABHISHEK\n",
      "abhishek\n",
      "ABHISHEK\n"
     ]
    }
   ],
   "source": [
    "st = \"AbHiShEk\"\n",
    "print(st.upper())\n",
    "print(st.casefold())\n",
    "st = \"abhishek\"\n",
    "print(st.swapcase())\n"
   ]
  },
  {
   "cell_type": "code",
   "execution_count": 58,
   "id": "cf1597df",
   "metadata": {},
   "outputs": [
    {
     "name": "stdout",
     "output_type": "stream",
     "text": [
      "Honesty is the best policy\n",
      "Honesty Is The Best Policy\n"
     ]
    }
   ],
   "source": [
    "st = \"honesty is the best policy\"\n",
    "print(st.capitalize())\n",
    "print(st.title())\n"
   ]
  },
  {
   "cell_type": "code",
   "execution_count": 61,
   "id": "f0c47702",
   "metadata": {},
   "outputs": [
    {
     "name": "stdout",
     "output_type": "stream",
     "text": [
      "000000000000000Abhinandan\n"
     ]
    }
   ],
   "source": [
    "st = \"Abhinandan\"\n",
    "print(st.zfill(25))"
   ]
  },
  {
   "cell_type": "code",
   "execution_count": 72,
   "id": "6bc0fdf8",
   "metadata": {},
   "outputs": [
    {
     "name": "stdout",
     "output_type": "stream",
     "text": [
      "True\n",
      "True\n",
      "True\n",
      "True\n",
      "True\n",
      "True\n",
      "True\n"
     ]
    }
   ],
   "source": [
    "st = 'Abc123'\n",
    "print(st.isalnum())\n",
    "st = 'ABC'\n",
    "print(st.isalpha())\n",
    "st = 'abc'\n",
    "print(st.islower())\n",
    "st = \"ABC\"\n",
    "print(st.isupper())\n",
    "st = '123'\n",
    "print(st.isdigit())\n",
    "st = '@'\n",
    "print(st.isascii())\n",
    "st = '   '\n",
    "print(st.isspace())\n"
   ]
  },
  {
   "cell_type": "code",
   "execution_count": 74,
   "id": "0d852138",
   "metadata": {},
   "outputs": [
    {
     "name": "stdout",
     "output_type": "stream",
     "text": [
      "2309\n",
      "अ\n"
     ]
    }
   ],
   "source": [
    "st = 'अ'\n",
    "print(ord(st))\n",
    "print(chr(2309))\n",
    "#ord and chr are universal function"
   ]
  },
  {
   "cell_type": "code",
   "execution_count": 75,
   "id": "d2b0fd53",
   "metadata": {},
   "outputs": [
    {
     "name": "stdout",
     "output_type": "stream",
     "text": [
      "4\n"
     ]
    }
   ],
   "source": [
    "st = 'Abhi'\n",
    "print(len(st))"
   ]
  },
  {
   "cell_type": "code",
   "execution_count": 76,
   "id": "8357db3a",
   "metadata": {},
   "outputs": [
    {
     "name": "stdout",
     "output_type": "stream",
     "text": [
      "[]\n"
     ]
    }
   ],
   "source": [
    "li = list()\n",
    "print(li)"
   ]
  },
  {
   "cell_type": "code",
   "execution_count": 81,
   "id": "99ec8f87",
   "metadata": {},
   "outputs": [
    {
     "name": "stdout",
     "output_type": "stream",
     "text": [
      "[10, 20, [1, 2, 3, 4], 1, 2, 3, 4]\n"
     ]
    }
   ],
   "source": [
    "li = list()\n",
    "li.append(10)\n",
    "li.append(20)\n",
    "dummy = [1,2,3,4]\n",
    "li.append(dummy)\n",
    "li.extend(dummy)\n",
    "print(li)"
   ]
  },
  {
   "cell_type": "code",
   "execution_count": 83,
   "id": "5952579c",
   "metadata": {},
   "outputs": [
    {
     "name": "stdout",
     "output_type": "stream",
     "text": [
      "[10, 25, 25, 20, [1, 2, 3, 4], 1, 2, 3, 4, 85]\n"
     ]
    }
   ],
   "source": [
    "li.insert(1,25)# 1 is index and 25 is value to be inserted\n",
    "li.insert(15,85)\n",
    "print(li)"
   ]
  },
  {
   "cell_type": "code",
   "execution_count": 84,
   "id": "79ccc322",
   "metadata": {},
   "outputs": [
    {
     "name": "stdout",
     "output_type": "stream",
     "text": [
      "[10, 25, 25, 20, [1, 2, 3, 4], 1, 2, 3, 4]\n"
     ]
    }
   ],
   "source": [
    "li.pop()\n",
    "print(li)"
   ]
  },
  {
   "cell_type": "code",
   "execution_count": 90,
   "id": "35eb5c90",
   "metadata": {},
   "outputs": [
    {
     "name": "stdout",
     "output_type": "stream",
     "text": [
      "[[1, 2, 3, 4], 2, 4]\n"
     ]
    }
   ],
   "source": [
    "li.pop(1)\n",
    "print(li)"
   ]
  },
  {
   "cell_type": "code",
   "execution_count": 87,
   "id": "8b8d09b9",
   "metadata": {},
   "outputs": [
    {
     "name": "stdout",
     "output_type": "stream",
     "text": [
      "[10, [1, 2, 3, 4], 1, 2, 3, 4]\n"
     ]
    }
   ],
   "source": [
    "li.remove(20)\n",
    "print(li)"
   ]
  },
  {
   "cell_type": "code",
   "execution_count": null,
   "id": "53a048d4",
   "metadata": {},
   "outputs": [],
   "source": [
    "li = list()\n",
    "li.pop()#will generate error"
   ]
  },
  {
   "cell_type": "code",
   "execution_count": 94,
   "id": "6dac5cf2",
   "metadata": {},
   "outputs": [
    {
     "name": "stdout",
     "output_type": "stream",
     "text": [
      "2\n"
     ]
    },
    {
     "ename": "ValueError",
     "evalue": "50 is not in list",
     "output_type": "error",
     "traceback": [
      "\u001b[1;31m---------------------------------------------------------------------------\u001b[0m",
      "\u001b[1;31mValueError\u001b[0m                                Traceback (most recent call last)",
      "Cell \u001b[1;32mIn[94], line 3\u001b[0m\n\u001b[0;32m      1\u001b[0m li \u001b[38;5;241m=\u001b[39m [\u001b[38;5;241m10\u001b[39m,\u001b[38;5;241m20\u001b[39m,\u001b[38;5;241m30\u001b[39m]\n\u001b[0;32m      2\u001b[0m \u001b[38;5;28mprint\u001b[39m(li\u001b[38;5;241m.\u001b[39mindex(\u001b[38;5;241m30\u001b[39m))\n\u001b[1;32m----> 3\u001b[0m \u001b[38;5;28mprint\u001b[39m(\u001b[43mli\u001b[49m\u001b[38;5;241;43m.\u001b[39;49m\u001b[43mindex\u001b[49m\u001b[43m(\u001b[49m\u001b[38;5;241;43m50\u001b[39;49m\u001b[43m)\u001b[49m)\n",
      "\u001b[1;31mValueError\u001b[0m: 50 is not in list"
     ]
    }
   ],
   "source": [
    "li = [10,20,30]\n",
    "print(li.index(30))\n",
    "print(li.index(50))"
   ]
  },
  {
   "cell_type": "code",
   "execution_count": 95,
   "id": "a589573c",
   "metadata": {},
   "outputs": [
    {
     "name": "stdout",
     "output_type": "stream",
     "text": [
      "2\n"
     ]
    }
   ],
   "source": [
    "li = [10,20,10,30,40,20,30]\n",
    "print(li.count(30))"
   ]
  },
  {
   "cell_type": "code",
   "execution_count": 96,
   "id": "659dae85",
   "metadata": {},
   "outputs": [
    {
     "name": "stdout",
     "output_type": "stream",
     "text": [
      "[0, 0, 0, 0, 0, 0, 0, 0, 0, 0]\n"
     ]
    }
   ],
   "source": [
    "li = [0 for i in range(10)]\n",
    "print(li)"
   ]
  },
  {
   "cell_type": "code",
   "execution_count": 98,
   "id": "3aa91782",
   "metadata": {},
   "outputs": [
    {
     "name": "stdout",
     "output_type": "stream",
     "text": [
      "[0, 1, 2, 3, 4, 5, 6, 7, 8, 9]\n"
     ]
    }
   ],
   "source": [
    "li = [i for i in range(10)]\n",
    "print(li)"
   ]
  },
  {
   "cell_type": "code",
   "execution_count": 99,
   "id": "6b01e802",
   "metadata": {},
   "outputs": [
    {
     "name": "stdout",
     "output_type": "stream",
     "text": [
      "[0, 2, 4, 6, 8]\n"
     ]
    }
   ],
   "source": [
    "li = [i for i in range(10) if i%2==0]\n",
    "print(li)"
   ]
  },
  {
   "cell_type": "code",
   "execution_count": 100,
   "id": "461d6714",
   "metadata": {},
   "outputs": [
    {
     "name": "stdout",
     "output_type": "stream",
     "text": [
      "[[0, 0, 0, 0], [0, 1, 2, 3], [0, 2, 4, 6]]\n"
     ]
    }
   ],
   "source": [
    "li = [[i*j for j in range(4)]for i in range(3)]\n",
    "print(li)"
   ]
  },
  {
   "cell_type": "code",
   "execution_count": 105,
   "id": "c0f3cb86",
   "metadata": {},
   "outputs": [
    {
     "name": "stdout",
     "output_type": "stream",
     "text": [
      "[[0, 0, 0, 0], [0, 1, 2, 3], [0, 2, 4, 6]]\n"
     ]
    }
   ],
   "source": [
    "li = []\n",
    "for i in range(3):\n",
    "    li.append([])\n",
    "    for j in range(4):\n",
    "        li[i].append(i*j)\n",
    "print(li)"
   ]
  },
  {
   "cell_type": "code",
   "execution_count": 108,
   "id": "c7d308b2",
   "metadata": {},
   "outputs": [
    {
     "name": "stdout",
     "output_type": "stream",
     "text": [
      "This_is_my_session\n"
     ]
    }
   ],
   "source": [
    "li = ['This', 'is', 'my', 'session']\n",
    "print('_'.join(li))"
   ]
  },
  {
   "cell_type": "code",
   "execution_count": 110,
   "id": "64b4998a",
   "metadata": {},
   "outputs": [
    {
     "name": "stdout",
     "output_type": "stream",
     "text": [
      "T_h_i_s_ _i_s_ _m_y_ _s_e_s_s_i_o_n\n"
     ]
    }
   ],
   "source": [
    "st = \"This is my session\"\n",
    "print('_'.join(st))"
   ]
  },
  {
   "cell_type": "code",
   "execution_count": 111,
   "id": "6ca9efb5",
   "metadata": {},
   "outputs": [
    {
     "name": "stdout",
     "output_type": "stream",
     "text": [
      "()\n"
     ]
    }
   ],
   "source": [
    "tu = tuple()\n",
    "print(tu)"
   ]
  },
  {
   "cell_type": "code",
   "execution_count": 115,
   "id": "3a0c03ff",
   "metadata": {},
   "outputs": [
    {
     "name": "stdout",
     "output_type": "stream",
     "text": [
      "5\n",
      "0\n",
      "3\n"
     ]
    }
   ],
   "source": [
    "tu = (10,20,30,10,30,40,20,30)\n",
    "print(tu.index(40))\n",
    "print(tu.index(10))\n",
    "print(tu.count(30))"
   ]
  },
  {
   "cell_type": "code",
   "execution_count": 117,
   "id": "dfda8b03",
   "metadata": {},
   "outputs": [
    {
     "name": "stdout",
     "output_type": "stream",
     "text": [
      "[40, 30, 30, 20, 20, 10, 10]\n"
     ]
    }
   ],
   "source": [
    "li = [10,20,10,30,40,20,30]\n",
    "li.sort(reverse=True)\n",
    "print(li)"
   ]
  },
  {
   "cell_type": "code",
   "execution_count": 118,
   "id": "33b4f133",
   "metadata": {},
   "outputs": [
    {
     "name": "stdout",
     "output_type": "stream",
     "text": [
      "[30, 20, 40, 30, 10, 20, 10]\n"
     ]
    }
   ],
   "source": [
    "li = [10,20,10,30,40,20,30]\n",
    "li.reverse()\n",
    "print(li)"
   ]
  },
  {
   "cell_type": "code",
   "execution_count": 119,
   "id": "2bc4ebde",
   "metadata": {},
   "outputs": [
    {
     "name": "stdout",
     "output_type": "stream",
     "text": [
      "{}\n",
      "{}\n"
     ]
    }
   ],
   "source": [
    "di = dict()\n",
    "print(di)\n",
    "di = {}\n",
    "print(di)"
   ]
  },
  {
   "cell_type": "code",
   "execution_count": 121,
   "id": "15bbbaf7",
   "metadata": {},
   "outputs": [
    {
     "name": "stdout",
     "output_type": "stream",
     "text": [
      "{1: 'ONE', 2: 'TWO', 3: 'THREE'}\n"
     ]
    }
   ],
   "source": [
    "di = { }\n",
    "di[1]='ONE'\n",
    "di[2]='TWO'\n",
    "di[3]='THREE'\n",
    "print(di)"
   ]
  },
  {
   "cell_type": "code",
   "execution_count": 125,
   "id": "07dc393b",
   "metadata": {},
   "outputs": [
    {
     "name": "stdout",
     "output_type": "stream",
     "text": [
      "dict_keys([1, 2, 3])\n",
      "dict_values(['ONE', 'TWO', 'THREE'])\n",
      "dict_items([(1, 'ONE'), (2, 'TWO'), (3, 'THREE')])\n"
     ]
    }
   ],
   "source": [
    "print(di.keys())\n",
    "print(di.values())\n",
    "print(di.items())"
   ]
  },
  {
   "cell_type": "code",
   "execution_count": 144,
   "id": "04a6097c",
   "metadata": {},
   "outputs": [
    {
     "name": "stdout",
     "output_type": "stream",
     "text": [
      "[0, 1, 2, 3, 4, 5, 6, 7, 8, 9]\n"
     ]
    }
   ],
   "source": [
    "li = [i for i in range(10)]\n",
    "print(li)"
   ]
  },
  {
   "cell_type": "code",
   "execution_count": 145,
   "id": "94c0e310",
   "metadata": {},
   "outputs": [
    {
     "name": "stdout",
     "output_type": "stream",
     "text": [
      "{0: 0, 1: 0, 2: 0, 3: 0, 4: 0, 5: 0, 6: 0, 7: 0, 8: 0, 9: 0}\n"
     ]
    }
   ],
   "source": [
    "di = {}\n",
    "di = dict.fromkeys(li,0)\n",
    "print(di)"
   ]
  },
  {
   "cell_type": "code",
   "execution_count": 147,
   "id": "841485d8",
   "metadata": {},
   "outputs": [
    {
     "name": "stdout",
     "output_type": "stream",
     "text": [
      "[0, 0, 0, 0, 0, 0, 0, 0, 0, 0, 0, 0, 0, 0, 0, 0, 0, 0, 0, 0, 0, 1, 2, 3, 4, 5, 6, 7, 8, 9, 10, 11, 12, 13, 14, 15, 16, 17, 18, 19, 0, 2, 4, 6, 8, 10, 12, 14, 16, 18, 20, 22, 24, 26, 28, 30, 32, 34, 36, 38, 0, 3, 6, 9, 12, 15, 18, 21, 24, 27, 30, 33, 36, 39, 42, 45, 48, 51, 54, 57, 0, 4, 8, 12, 16, 20, 24, 28, 32, 36, 40, 44, 48, 52, 56, 60, 64, 68, 72, 76, 0, 5, 10, 15, 20, 25, 30, 35, 40, 45, 50, 55, 60, 65, 70, 75, 80, 85, 90, 95, 0, 6, 12, 18, 24, 30, 36, 42, 48, 54, 60, 66, 72, 78, 84, 90, 96, 102, 108, 114, 0, 7, 14, 21, 28, 35, 42, 49, 56, 63, 70, 77, 84, 91, 98, 105, 112, 119, 126, 133, 0, 8, 16, 24, 32, 40, 48, 56, 64, 72, 80, 88, 96, 104, 112, 120, 128, 136, 144, 152, 0, 9, 18, 27, 36, 45, 54, 63, 72, 81, 90, 99, 108, 117, 126, 135, 144, 153, 162, 171]\n"
     ]
    }
   ],
   "source": [
    "li = [i*j for i in range(10) for j in range(20)]\n",
    "print(li)"
   ]
  },
  {
   "cell_type": "code",
   "execution_count": 148,
   "id": "d37ed7dd",
   "metadata": {},
   "outputs": [
    {
     "name": "stdout",
     "output_type": "stream",
     "text": [
      "{0: 54, 1: 8, 2: 24, 3: 8, 4: 24, 5: 18, 6: 24, 7: 8, 8: 24, 9: 8}\n"
     ]
    }
   ],
   "source": [
    "for i in li:\n",
    "    X = i%10\n",
    "    di[X]+=1\n",
    "print(di)   "
   ]
  },
  {
   "cell_type": "code",
   "execution_count": 171,
   "id": "f1e14e73",
   "metadata": {},
   "outputs": [
    {
     "name": "stdout",
     "output_type": "stream",
     "text": [
      "{'a': 6, 'b': 4, 'c': 3, 'd': 1}\n"
     ]
    }
   ],
   "source": [
    "st = 'aabbcabaacbcad'\n",
    "di = {}\n",
    "for i in st:\n",
    "    if i not in di:\n",
    "        di[i]=1\n",
    "    else:\n",
    "        di[i]+=1\n",
    "print(di)        "
   ]
  },
  {
   "cell_type": "code",
   "execution_count": 151,
   "id": "7b1f51fc",
   "metadata": {},
   "outputs": [
    {
     "name": "stdout",
     "output_type": "stream",
     "text": [
      "6\n",
      "6\n"
     ]
    }
   ],
   "source": [
    "print(di['a'])\n",
    "print(di.get('a'))"
   ]
  },
  {
   "cell_type": "code",
   "execution_count": 168,
   "id": "3177f146",
   "metadata": {},
   "outputs": [
    {
     "name": "stdout",
     "output_type": "stream",
     "text": [
      "0\n"
     ]
    }
   ],
   "source": [
    "print(di['e'])#generates error\n",
    "#print(di.get('e'))"
   ]
  },
  {
   "cell_type": "code",
   "execution_count": 172,
   "id": "90b226ee",
   "metadata": {},
   "outputs": [
    {
     "name": "stdout",
     "output_type": "stream",
     "text": [
      "3\n"
     ]
    }
   ],
   "source": [
    "print(di.setdefault('e',3))"
   ]
  },
  {
   "cell_type": "code",
   "execution_count": 173,
   "id": "87a4e76b",
   "metadata": {},
   "outputs": [
    {
     "name": "stdout",
     "output_type": "stream",
     "text": [
      "{'a': 6, 'b': 4, 'c': 3, 'd': 1, 'e': 3}\n"
     ]
    }
   ],
   "source": [
    "print(di)"
   ]
  },
  {
   "cell_type": "code",
   "execution_count": 180,
   "id": "395452cb",
   "metadata": {},
   "outputs": [
    {
     "name": "stdout",
     "output_type": "stream",
     "text": [
      "{1: 5, 2: 4, 3: 2, 4: 3, 5: 1}\n",
      "{5: 1, 4: 3, 3: 2, 2: 4, 1: 5}\n",
      "{5: 1, 3: 2, 4: 3, 2: 4, 1: 5}\n",
      "{1: 5, 2: 4, 4: 3, 3: 2, 5: 1}\n"
     ]
    }
   ],
   "source": [
    "from operator import itemgetter\n",
    "di = {2:4,3:2,1:5,4:3,5:1}\n",
    "#sorted based on keys in ascending\n",
    "di = dict(sorted(di.items(),key = itemgetter(0)))\n",
    "print(di)\n",
    "#sortes based on keys in descending\n",
    "di = dict(sorted(di.items(),key = itemgetter(0),reverse=True))\n",
    "print(di)\n",
    "#sorted based on values in ascending\n",
    "di = dict(sorted(di.items(),key = itemgetter(1)))\n",
    "print(di)\n",
    "#sorted based on values in descending\n",
    "di = dict(sorted(di.items(),key = itemgetter(1),reverse=True))\n",
    "print(di)\n"
   ]
  },
  {
   "cell_type": "code",
   "execution_count": 195,
   "id": "42175199",
   "metadata": {},
   "outputs": [
    {
     "name": "stdout",
     "output_type": "stream",
     "text": [
      "[0, 1, 2, 3, 4]\n",
      "[0, 1, 2, 4]\n"
     ]
    }
   ],
   "source": [
    "li = [i for i in range  (5)]\n",
    "dummy = li.copy()\n",
    "li.remove(3)\n",
    "print(dummy)\n",
    "print(li)"
   ]
  },
  {
   "cell_type": "code",
   "execution_count": 197,
   "id": "0eb69072",
   "metadata": {},
   "outputs": [
    {
     "name": "stdout",
     "output_type": "stream",
     "text": [
      "{'a': 6, 'b': 4, 'c': 3, 'd': 2, 'e': 5}\n",
      "{'a': 6, 'b': 4, 'c': 3, 'd': 2, 'e': 5}\n"
     ]
    }
   ],
   "source": [
    "di = {'a': 6, 'b': 4, 'c': 3, 'd': 2, 'e':5}\n",
    "dummy = di.copy()\n",
    "di['e']=5\n",
    "print(di)\n",
    "print(dummy)"
   ]
  },
  {
   "cell_type": "code",
   "execution_count": 208,
   "id": "cd09dbd7",
   "metadata": {},
   "outputs": [
    {
     "name": "stdout",
     "output_type": "stream",
     "text": [
      "{40, 10, 50, 20, 30}\n"
     ]
    }
   ],
   "source": [
    "s = {40,10,20,30}\n",
    "s.add(50)\n",
    "print(s)"
   ]
  },
  {
   "cell_type": "code",
   "execution_count": 219,
   "id": "2a844bdf",
   "metadata": {},
   "outputs": [
    {
     "name": "stdout",
     "output_type": "stream",
     "text": [
      "{40, 20, 30}\n"
     ]
    }
   ],
   "source": [
    "s = {40,10,20,30}\n",
    "s.remove(10)\n",
    "print(s)\n"
   ]
  },
  {
   "cell_type": "code",
   "execution_count": 209,
   "id": "b024f583",
   "metadata": {},
   "outputs": [
    {
     "name": "stdout",
     "output_type": "stream",
     "text": [
      "{40, 10, 20, 30}\n"
     ]
    }
   ],
   "source": [
    "s.discard(50)\n",
    "print(s)"
   ]
  },
  {
   "cell_type": "code",
   "execution_count": 210,
   "id": "1f5d2fd6",
   "metadata": {},
   "outputs": [
    {
     "name": "stdout",
     "output_type": "stream",
     "text": [
      "{40, 10, 20, 30}\n",
      "set()\n"
     ]
    }
   ],
   "source": [
    "s = {10,20,10,30,40,20,30}\n",
    "print(s)\n",
    "s.clear()\n",
    "print(s)"
   ]
  },
  {
   "cell_type": "code",
   "execution_count": 211,
   "id": "6a3ba191",
   "metadata": {},
   "outputs": [
    {
     "name": "stdout",
     "output_type": "stream",
     "text": [
      "{50, 20, 40, 10, 30}\n",
      "{40, 50, 30}\n"
     ]
    }
   ],
   "source": [
    "s1 = {10,20,30}\n",
    "s2 = {40,30,50}\n",
    "s1.update(s2)\n",
    "print(s1)\n",
    "print(s2)"
   ]
  },
  {
   "cell_type": "code",
   "execution_count": 214,
   "id": "0d3884cc",
   "metadata": {},
   "outputs": [
    {
     "name": "stdout",
     "output_type": "stream",
     "text": [
      "{50, 20, 40, 10, 30}\n",
      "{50, 20, 10, 30}\n"
     ]
    }
   ],
   "source": [
    "s = {50, 20, 40, 10, 30}\n",
    "dummy = s.copy()\n",
    "s.remove(40)\n",
    "print(dummy)\n",
    "print(s)"
   ]
  },
  {
   "cell_type": "code",
   "execution_count": 220,
   "id": "f4dc83d3",
   "metadata": {},
   "outputs": [
    {
     "name": "stdout",
     "output_type": "stream",
     "text": [
      "{1, 2, 4, 5, 7, 8, 9} {2, 3, 5, 6, 9, 10} {8, 7}\n"
     ]
    }
   ],
   "source": [
    "a = {1,2,4,5,7,8,9}\n",
    "b = {2,3,5,6,9,10}\n",
    "c = {7,8}\n",
    "print(a,b,c)"
   ]
  },
  {
   "cell_type": "code",
   "execution_count": 222,
   "id": "0c24820d",
   "metadata": {},
   "outputs": [
    {
     "name": "stdout",
     "output_type": "stream",
     "text": [
      "{1, 2, 3, 4, 5, 6, 7, 8, 9, 10}\n",
      "{1, 2, 3, 4, 5, 6, 7, 8, 9, 10}\n"
     ]
    }
   ],
   "source": [
    "print(a.union(b))\n",
    "print(a | b)"
   ]
  },
  {
   "cell_type": "code",
   "execution_count": 224,
   "id": "9f4a11d1",
   "metadata": {},
   "outputs": [
    {
     "name": "stdout",
     "output_type": "stream",
     "text": [
      "{9, 2, 5}\n",
      "{9, 2, 5}\n"
     ]
    }
   ],
   "source": [
    "print(a.intersection(b))\n",
    "print(a & b)"
   ]
  },
  {
   "cell_type": "code",
   "execution_count": 227,
   "id": "b59469d4",
   "metadata": {},
   "outputs": [
    {
     "name": "stdout",
     "output_type": "stream",
     "text": [
      "{1, 2, 4, 5, 7, 8, 9} {2, 3, 5, 6, 9, 10}\n",
      "{9, 2, 5}\n",
      "{1, 2, 4, 5, 7, 8, 9} {2, 3, 5, 6, 9, 10}\n",
      "None\n",
      "{9, 2, 5} {2, 3, 5, 6, 9, 10}\n"
     ]
    }
   ],
   "source": [
    "a = {1,2,4,5,7,8,9}\n",
    "b = {2,3,5,6,9,10}\n",
    "print(a,b)\n",
    "print(a.intersection(b))\n",
    "print(a,b)\n",
    "print(a.intersection_update(b)) #a = a&b\n",
    "print(a,b)"
   ]
  },
  {
   "cell_type": "code",
   "execution_count": 229,
   "id": "4a7d7f04",
   "metadata": {},
   "outputs": [
    {
     "name": "stdout",
     "output_type": "stream",
     "text": [
      "{8, 1, 4, 7}\n",
      "{8, 1, 4, 7}\n",
      "{10, 3, 6}\n",
      "{10, 3, 6}\n"
     ]
    }
   ],
   "source": [
    "a = {1,2,4,5,7,8,9}\n",
    "b = {2,3,5,6,9,10}\n",
    "print(a-b)\n",
    "print(a.difference(b))\n",
    "print(b-a)\n",
    "print(b.difference(a))"
   ]
  },
  {
   "cell_type": "code",
   "execution_count": 230,
   "id": "641623ba",
   "metadata": {},
   "outputs": [
    {
     "name": "stdout",
     "output_type": "stream",
     "text": [
      "{1, 4, 7, 8} {2, 3, 5, 6, 9, 10}\n"
     ]
    }
   ],
   "source": [
    "a = {1,2,4,5,7,8,9}\n",
    "b = {2,3,5,6,9,10}\n",
    "a.difference_update(b) #a = a-b\n",
    "print(a,b)"
   ]
  },
  {
   "cell_type": "code",
   "execution_count": 232,
   "id": "ae7b0745",
   "metadata": {},
   "outputs": [
    {
     "name": "stdout",
     "output_type": "stream",
     "text": [
      "{1, 3, 4, 6, 7, 8, 10}\n",
      "{1, 3, 4, 6, 7, 8, 10}\n"
     ]
    }
   ],
   "source": [
    "a = {1,2,4,5,7,8,9}\n",
    "b = {2,3,5,6,9,10}\n",
    "print(a.symmetric_difference(b))\n",
    "print((a | b )- (a & b))"
   ]
  },
  {
   "cell_type": "code",
   "execution_count": 234,
   "id": "7dbbcf83",
   "metadata": {},
   "outputs": [
    {
     "name": "stdout",
     "output_type": "stream",
     "text": [
      "{1, 3, 4, 6, 7, 8, 10}\n"
     ]
    }
   ],
   "source": [
    "a = {1,2,4,5,7,8,9}\n",
    "b = {2,3,5,6,9,10}\n",
    "a.symmetric_difference_update(b) #a = (a |b - a&b)\n",
    "print(a)"
   ]
  },
  {
   "cell_type": "code",
   "execution_count": 238,
   "id": "cda0da9a",
   "metadata": {},
   "outputs": [
    {
     "name": "stdout",
     "output_type": "stream",
     "text": [
      "True\n",
      "True\n",
      "True\n",
      "True\n",
      "True\n"
     ]
    }
   ],
   "source": [
    "a = {1,2,4,5,7,8,9}\n",
    "b = {2,3,5,6,9,10}\n",
    "c = {7,8}\n",
    "print(c.issubset(a))\n",
    "print(c<a)\n",
    "print(a.issuperset(c))\n",
    "print(a>c)\n",
    "print(c.isdisjoint(b))"
   ]
  },
  {
   "cell_type": "code",
   "execution_count": 243,
   "id": "f9e95c6f",
   "metadata": {},
   "outputs": [
    {
     "name": "stdout",
     "output_type": "stream",
     "text": [
      "frozenset() <class 'frozenset'>\n"
     ]
    }
   ],
   "source": [
    "s = frozenset()\n",
    "print(s,type(s))"
   ]
  },
  {
   "cell_type": "code",
   "execution_count": 245,
   "id": "024c1936",
   "metadata": {},
   "outputs": [
    {
     "data": {
      "text/plain": [
       "['__and__',\n",
       " '__class__',\n",
       " '__class_getitem__',\n",
       " '__contains__',\n",
       " '__delattr__',\n",
       " '__dir__',\n",
       " '__doc__',\n",
       " '__eq__',\n",
       " '__format__',\n",
       " '__ge__',\n",
       " '__getattribute__',\n",
       " '__getstate__',\n",
       " '__gt__',\n",
       " '__hash__',\n",
       " '__init__',\n",
       " '__init_subclass__',\n",
       " '__iter__',\n",
       " '__le__',\n",
       " '__len__',\n",
       " '__lt__',\n",
       " '__ne__',\n",
       " '__new__',\n",
       " '__or__',\n",
       " '__rand__',\n",
       " '__reduce__',\n",
       " '__reduce_ex__',\n",
       " '__repr__',\n",
       " '__ror__',\n",
       " '__rsub__',\n",
       " '__rxor__',\n",
       " '__setattr__',\n",
       " '__sizeof__',\n",
       " '__str__',\n",
       " '__sub__',\n",
       " '__subclasshook__',\n",
       " '__xor__',\n",
       " 'copy',\n",
       " 'difference',\n",
       " 'intersection',\n",
       " 'isdisjoint',\n",
       " 'issubset',\n",
       " 'issuperset',\n",
       " 'symmetric_difference',\n",
       " 'union']"
      ]
     },
     "execution_count": 245,
     "metadata": {},
     "output_type": "execute_result"
    }
   ],
   "source": [
    "dir(frozenset)"
   ]
  },
  {
   "cell_type": "code",
   "execution_count": 246,
   "id": "badb30f2",
   "metadata": {},
   "outputs": [
    {
     "name": "stdout",
     "output_type": "stream",
     "text": [
      "[10, 20, 30, 40]\n"
     ]
    }
   ],
   "source": [
    "li = [10,20,10,30,20,40,10,30]\n",
    "dummy = []\n",
    "for i in li:\n",
    "    if i not in dummy:\n",
    "        dummy.append(i)\n",
    "print(dummy)        \n",
    "        "
   ]
  },
  {
   "cell_type": "code",
   "execution_count": 247,
   "id": "d284e4aa",
   "metadata": {},
   "outputs": [
    {
     "name": "stdout",
     "output_type": "stream",
     "text": [
      "[40, 10, 20, 30]\n"
     ]
    }
   ],
   "source": [
    "li = [10,20,10,30,20,40,10,30]\n",
    "li = list(set(li)) #set will not have duplicate so set is used to print non repeatable list values\n",
    "print(li)"
   ]
  },
  {
   "cell_type": "code",
   "execution_count": 4,
   "id": "81b90a7c",
   "metadata": {},
   "outputs": [],
   "source": [
    "from tkinter import *\n",
    "\n",
    "window = Tk()\n",
    "\n",
    "window.title(\"Welcome to LikeGeeks app\")\n",
    "\n",
    "window.geometry('350x200')\n",
    "\n",
    "\n",
    "name = Label(window, text=\"NAME\")\n",
    "name.grid(column=0, row=0)\n",
    "\n",
    "name1 = Entry(window,width=10)\n",
    "name1.grid(column=1, row=0)\n",
    "\n",
    "\n",
    "regno = Label(window, text=\"Reg.No\")\n",
    "regno.grid(column=2, row=0)\n",
    "\n",
    "regno1 = Entry(window,width=10)\n",
    "regno1.grid(column=3, row=0)\n",
    "\n",
    "\n",
    "roll = Label(window, text=\"Roll.No\")\n",
    "roll.grid(column=0, row=1)\n",
    "\n",
    "roll1 = Entry(window,width=10)\n",
    "roll1.grid(column=1, row=1)\n",
    "\n",
    "\n",
    "Srl = Label(window, text=\"Srl.No\")\n",
    "Srl.grid(column=0, row=3)\n",
    "\n",
    "Sub = Label(window, text=\"Subject\")\n",
    "Sub.grid(column=1, row=3)\n",
    "\n",
    "grade = Label(window, text=\"Grade\")\n",
    "grade.grid(column=2, row=3)\n",
    "\n",
    "SubC = Label(window, text=\"Sub Credit\")\n",
    "SubC.grid(column=3, row=3)\n",
    "\n",
    "Credit = Label(window, text=\"Credit obtained\")\n",
    "Credit.grid(column=4, row=3)\n",
    "\n",
    "\n",
    "Sno1 = Label(window, text=\"1\")\n",
    "Sno1.grid(column=0, row=4)\n",
    "\n",
    "cs201 = Label(window, text=\"CS 201\")\n",
    "cs201.grid(column=1, row=4)\n",
    "\n",
    "gradecs201 = Entry(window, width=10)\n",
    "gradecs201.grid(column=2, row=4)\n",
    "\n",
    "Subcs201 = Label(window, text=\"4\")\n",
    "Subcs201.grid(column=3, row=4)\n",
    "\n",
    "\n",
    "Sno2 = Label(window, text=\"2\")\n",
    "Sno2.grid(column=0, row=5)\n",
    "\n",
    "cs202 = Label(window, text=\"CS 202\")\n",
    "cs202.grid(column=1, row=5)\n",
    "\n",
    "gradecs202 = Entry(window, width=10)\n",
    "gradecs202.grid(column=2, row=5)\n",
    "\n",
    "Subcs202 = Label(window, text=\"4\")\n",
    "Subcs202.grid(column=3, row=5)\n",
    "\n",
    "\n",
    "Sno3 = Label(window, text=\"3\")\n",
    "Sno3.grid(column=0, row=6)\n",
    "\n",
    "ma201 = Label(window, text=\"MA 201\")\n",
    "ma201.grid(column=1, row=6)\n",
    "\n",
    "gradema201 = Entry(window, width=10)\n",
    "gradema201.grid(column=2, row=6)\n",
    "\n",
    "Subcsma201 = Label(window, text=\"3\")\n",
    "Subcsma201.grid(column=3, row=6)\n",
    "\n",
    "\n",
    "Sno4 = Label(window, text=\"4\")\n",
    "Sno4.grid(column=0, row=7)\n",
    "\n",
    "ec201 = Label(window, text=\"CE 201\")\n",
    "ec201.grid(column=1, row=7)\n",
    "\n",
    "gradeec201 = Entry(window, width=10)\n",
    "gradeec201.grid(column=2, row=7)\n",
    "\n",
    "Subcsec201 = Label(window, text=\"4\")\n",
    "Subcsec201.grid(column=3, row=7)\n",
    "\n",
    "\n",
    "totalcredit = Label(window, text=\"Total credit\")\n",
    "totalcredit.grid(column=3, row=8)\n",
    "\n",
    "\n",
    "sgpa = Label(window, text=\"SGPA\")\n",
    "sgpa.grid(column=3, row=9)\n",
    "\n",
    "btn = Button(window, text=\"Submit\", bg=\"green\")\n",
    "btn.grid(column=1, row=9)\n",
    "\n",
    "window.mainloop()\n"
   ]
  },
  {
   "cell_type": "code",
   "execution_count": null,
   "id": "a30a889b",
   "metadata": {},
   "outputs": [],
   "source": [
    "def fact(a):\n",
    "    a_fact=1\n",
    "    for i in range(1,a+1):\n",
    "        a_fact = a_fact*i\n",
    "        return a_fact"
   ]
  },
  {
   "cell_type": "code",
   "execution_count": null,
   "id": "e0716722",
   "metadata": {},
   "outputs": [],
   "source": [
    " a = fact(5)"
   ]
  },
  {
   "cell_type": "code",
   "execution_count": null,
   "id": "71670e0e",
   "metadata": {},
   "outputs": [],
   "source": []
  }
 ],
 "metadata": {
  "kernelspec": {
   "display_name": "Python 3 (ipykernel)",
   "language": "python",
   "name": "python3"
  },
  "language_info": {
   "codemirror_mode": {
    "name": "ipython",
    "version": 3
   },
   "file_extension": ".py",
   "mimetype": "text/x-python",
   "name": "python",
   "nbconvert_exporter": "python",
   "pygments_lexer": "ipython3",
   "version": "3.11.2"
  }
 },
 "nbformat": 4,
 "nbformat_minor": 5
}
